{
 "cells": [
  {
   "attachments": {},
   "cell_type": "markdown",
   "metadata": {},
   "source": [
    "## Flujos de Control"
   ]
  },
  {
   "attachments": {},
   "cell_type": "markdown",
   "metadata": {},
   "source": [
    "1) Crear una variable que contenga un elemento del conjunto de números enteros y luego imprimir por pantalla si es mayor o menor a cero"
   ]
  },
  {
   "cell_type": "code",
   "execution_count": 2,
   "metadata": {},
   "outputs": [
    {
     "name": "stdout",
     "output_type": "stream",
     "text": [
      "a es menor a cero\n"
     ]
    }
   ],
   "source": [
    "a =-5\n",
    "if a>0:\n",
    "    print(\"a es mayor a 0\")\n",
    "elif a<0:\n",
    "    print(\"a es menor a 0\")"
   ]
  },
  {
   "attachments": {},
   "cell_type": "markdown",
   "metadata": {},
   "source": [
    "2) Crear dos variables y un condicional que informe si son del mismo tipo de dato"
   ]
  },
  {
   "cell_type": "code",
   "execution_count": 4,
   "metadata": {},
   "outputs": [
    {
     "name": "stdout",
     "output_type": "stream",
     "text": [
      "a es distinto tipo que b\n"
     ]
    }
   ],
   "source": [
    "a = 0\n",
    "b = 0.0\n",
    "if type(a) == type(b):\n",
    "    print(\"a es del mismo tipo que b\")\n",
    "else:\n",
    "    print(\"a es distinto tipo que b\")\n"
   ]
  },
  {
   "attachments": {},
   "cell_type": "markdown",
   "metadata": {},
   "source": [
    "3) Para los valores enteros del 1 al 20, imprimir por pantalla si es par o impar"
   ]
  },
  {
   "cell_type": "code",
   "execution_count": 9,
   "metadata": {},
   "outputs": [
    {
     "name": "stdout",
     "output_type": "stream",
     "text": [
      "1 es impar\n",
      "2  es par\n",
      "3 es impar\n",
      "4  es par\n",
      "5 es impar\n",
      "6  es par\n",
      "7 es impar\n",
      "8  es par\n",
      "9 es impar\n",
      "10  es par\n",
      "11 es impar\n",
      "12  es par\n",
      "13 es impar\n",
      "14  es par\n",
      "15 es impar\n",
      "16  es par\n",
      "17 es impar\n",
      "18  es par\n",
      "19 es impar\n",
      "20  es par\n"
     ]
    }
   ],
   "source": [
    "a = b = 0\n",
    "for a in range(1,21):\n",
    "    b = a%2\n",
    "    if b==1:\n",
    "        print(a, \"es impar\") \n",
    "    else:\n",
    "        print(a,\" es par\")"
   ]
  },
  {
   "attachments": {},
   "cell_type": "markdown",
   "metadata": {},
   "source": [
    "4) En un ciclo for mostrar para los valores entre 0 y 5 el resultado de elevarlo a la potencia igual a 3"
   ]
  },
  {
   "cell_type": "code",
   "execution_count": 11,
   "metadata": {},
   "outputs": [
    {
     "name": "stdout",
     "output_type": "stream",
     "text": [
      "1\n",
      "8\n",
      "27\n",
      "64\n"
     ]
    }
   ],
   "source": [
    "for a in range (1,5):\n",
    "    print(a**3)"
   ]
  },
  {
   "attachments": {},
   "cell_type": "markdown",
   "metadata": {},
   "source": [
    "5) Crear una variable que contenga un número entero y realizar un ciclo for la misma cantidad de ciclos"
   ]
  },
  {
   "cell_type": "code",
   "execution_count": 13,
   "metadata": {},
   "outputs": [
    {
     "name": "stdout",
     "output_type": "stream",
     "text": [
      "N° de ciclo:  0\n",
      "N° de ciclo:  1\n",
      "N° de ciclo:  2\n",
      "N° de ciclo:  3\n",
      "N° de ciclo:  4\n"
     ]
    }
   ],
   "source": [
    "b=5\n",
    "for a in range (0,b):\n",
    "    print (\"N° de ciclo: \",a)"
   ]
  },
  {
   "attachments": {},
   "cell_type": "markdown",
   "metadata": {},
   "source": [
    "6) Utilizar un ciclo while para realizar el factorial de un número guardado en una variable, sólo si la variable contiene un número entero mayor a 0"
   ]
  },
  {
   "cell_type": "code",
   "execution_count": 35,
   "metadata": {},
   "outputs": [
    {
     "name": "stdout",
     "output_type": "stream",
     "text": [
      "Factorial:  5\n",
      "Factorial:  20\n",
      "Factorial:  60\n",
      "Factorial:  120\n",
      "Factorial:  120\n"
     ]
    }
   ],
   "source": [
    "variable=5\n",
    "fact=1\n",
    "\n",
    "while variable > 0:\n",
    "    fact = fact * variable\n",
    "    variable-=1\n",
    "    print(\"Factorial: \",fact)\n",
    "\n"
   ]
  },
  {
   "attachments": {},
   "cell_type": "markdown",
   "metadata": {},
   "source": [
    "7) Crear un ciclo for dentro de un ciclo while"
   ]
  },
  {
   "cell_type": "code",
   "execution_count": 40,
   "metadata": {},
   "outputs": [
    {
     "name": "stdout",
     "output_type": "stream",
     "text": [
      "Tabla de multiblicar 10\n",
      "10  x  1  =  10\n",
      "10  x  2  =  20\n",
      "10  x  3  =  30\n",
      "10  x  4  =  40\n",
      "10  x  5  =  50\n",
      "10  x  6  =  60\n",
      "10  x  7  =  70\n",
      "10  x  8  =  80\n",
      "10  x  9  =  90\n",
      "10  x  10  =  100\n",
      "Tabla de multiblicar 9\n",
      "9  x  1  =  9\n",
      "9  x  2  =  18\n",
      "9  x  3  =  27\n",
      "9  x  4  =  36\n",
      "9  x  5  =  45\n",
      "9  x  6  =  54\n",
      "9  x  7  =  63\n",
      "9  x  8  =  72\n",
      "9  x  9  =  81\n",
      "9  x  10  =  90\n",
      "Tabla de multiblicar 8\n",
      "8  x  1  =  8\n",
      "8  x  2  =  16\n",
      "8  x  3  =  24\n",
      "8  x  4  =  32\n",
      "8  x  5  =  40\n",
      "8  x  6  =  48\n",
      "8  x  7  =  56\n",
      "8  x  8  =  64\n",
      "8  x  9  =  72\n",
      "8  x  10  =  80\n",
      "Tabla de multiblicar 7\n",
      "7  x  1  =  7\n",
      "7  x  2  =  14\n",
      "7  x  3  =  21\n",
      "7  x  4  =  28\n",
      "7  x  5  =  35\n",
      "7  x  6  =  42\n",
      "7  x  7  =  49\n",
      "7  x  8  =  56\n",
      "7  x  9  =  63\n",
      "7  x  10  =  70\n",
      "Tabla de multiblicar 6\n",
      "6  x  1  =  6\n",
      "6  x  2  =  12\n",
      "6  x  3  =  18\n",
      "6  x  4  =  24\n",
      "6  x  5  =  30\n",
      "6  x  6  =  36\n",
      "6  x  7  =  42\n",
      "6  x  8  =  48\n",
      "6  x  9  =  54\n",
      "6  x  10  =  60\n",
      "Tabla de multiblicar 5\n",
      "5  x  1  =  5\n",
      "5  x  2  =  10\n",
      "5  x  3  =  15\n",
      "5  x  4  =  20\n",
      "5  x  5  =  25\n",
      "5  x  6  =  30\n",
      "5  x  7  =  35\n",
      "5  x  8  =  40\n",
      "5  x  9  =  45\n",
      "5  x  10  =  50\n",
      "Tabla de multiblicar 4\n",
      "4  x  1  =  4\n",
      "4  x  2  =  8\n",
      "4  x  3  =  12\n",
      "4  x  4  =  16\n",
      "4  x  5  =  20\n",
      "4  x  6  =  24\n",
      "4  x  7  =  28\n",
      "4  x  8  =  32\n",
      "4  x  9  =  36\n",
      "4  x  10  =  40\n",
      "Tabla de multiblicar 3\n",
      "3  x  1  =  3\n",
      "3  x  2  =  6\n",
      "3  x  3  =  9\n",
      "3  x  4  =  12\n",
      "3  x  5  =  15\n",
      "3  x  6  =  18\n",
      "3  x  7  =  21\n",
      "3  x  8  =  24\n",
      "3  x  9  =  27\n",
      "3  x  10  =  30\n",
      "Tabla de multiblicar 2\n",
      "2  x  1  =  2\n",
      "2  x  2  =  4\n",
      "2  x  3  =  6\n",
      "2  x  4  =  8\n",
      "2  x  5  =  10\n",
      "2  x  6  =  12\n",
      "2  x  7  =  14\n",
      "2  x  8  =  16\n",
      "2  x  9  =  18\n",
      "2  x  10  =  20\n",
      "Tabla de multiblicar 1\n",
      "1  x  1  =  1\n",
      "1  x  2  =  2\n",
      "1  x  3  =  3\n",
      "1  x  4  =  4\n",
      "1  x  5  =  5\n",
      "1  x  6  =  6\n",
      "1  x  7  =  7\n",
      "1  x  8  =  8\n",
      "1  x  9  =  9\n",
      "1  x  10  =  10\n"
     ]
    }
   ],
   "source": [
    "a=10\n",
    "while a != 0:\n",
    "    print(\"Tabla de multiblicar\",a)\n",
    "    for b in range(1,11):\n",
    "        print(a,\" x \", b,\" = \", a*b)\n",
    "    a-=1     \n",
    "\n"
   ]
  },
  {
   "attachments": {},
   "cell_type": "markdown",
   "metadata": {},
   "source": [
    "8) Crear un ciclo while dentro de un ciclo for"
   ]
  },
  {
   "cell_type": "code",
   "execution_count": 45,
   "metadata": {},
   "outputs": [
    {
     "name": "stdout",
     "output_type": "stream",
     "text": [
      "W\n",
      "W\n",
      "W\n",
      "a\n",
      "a\n",
      "a\n",
      "l\n",
      "l\n",
      "l\n",
      "t\n",
      "t\n",
      "t\n",
      "e\n",
      "e\n",
      "e\n",
      "r\n",
      "r\n",
      "r\n"
     ]
    }
   ],
   "source": [
    "Nomre = \"Walter\"\n",
    "for letra in Nomre:\n",
    "    repite = 3\n",
    "    while repite > 0:\n",
    "        print(letra)\n",
    "        repite-=1"
   ]
  },
  {
   "attachments": {},
   "cell_type": "markdown",
   "metadata": {},
   "source": [
    "9) Imprimir los números primos existentes entre 0 y 30"
   ]
  },
  {
   "cell_type": "code",
   "execution_count": 165,
   "metadata": {},
   "outputs": [
    {
     "name": "stdout",
     "output_type": "stream",
     "text": [
      "0 es primo\n",
      "1 es primo\n",
      "2 es primo\n",
      "3 es primo\n",
      "5 es primo\n",
      "7 es primo\n",
      "11 es primo\n",
      "13 es primo\n",
      "17 es primo\n",
      "19 es primo\n",
      "23 es primo\n",
      "29 es primo\n",
      "Cantidad de ciclos: 378\n"
     ]
    }
   ],
   "source": [
    "a = 0\n",
    "b = 1\n",
    "c1 = 0\n",
    "d = True\n",
    "\n",
    "for a in range (30):\n",
    "    for b in range(2,a): \n",
    "        c1+=1\n",
    "        if a % b == 0:\n",
    "            d = 0\n",
    "    if d == 1:\n",
    "        print (a, \"es primo\")\n",
    "    else:\n",
    "        d=1\n",
    "print('Cantidad de ciclos: ' + str(c1))  "
   ]
  },
  {
   "attachments": {},
   "cell_type": "markdown",
   "metadata": {},
   "source": [
    "10) ¿Se puede mejorar el proceso del punto 9? Utilizar las sentencias break y/ó continue para tal fin"
   ]
  },
  {
   "cell_type": "code",
   "execution_count": 166,
   "metadata": {},
   "outputs": [
    {
     "name": "stdout",
     "output_type": "stream",
     "text": [
      "0 es primo\n",
      "1 es primo\n",
      "2 es primo\n",
      "3 es primo\n",
      "5 es primo\n",
      "7 es primo\n",
      "11 es primo\n",
      "13 es primo\n",
      "17 es primo\n",
      "19 es primo\n",
      "23 es primo\n",
      "29 es primo\n",
      "Cantidad de ciclos: 134\n"
     ]
    }
   ],
   "source": [
    "a = 0\n",
    "b = 1\n",
    "c2 = 0\n",
    "d = True\n",
    "\n",
    "for a in range (30):\n",
    "    for b in range(2,a):\n",
    "        c2+=1 \n",
    "        if a % b == 0:\n",
    "            d = 0\n",
    "            break\n",
    "    if d == 1:\n",
    "        print (a, \"es primo\")\n",
    "    else:\n",
    "        d=1\n",
    "  \n",
    "print('Cantidad de ciclos: ' + str(c2))   "
   ]
  },
  {
   "attachments": {},
   "cell_type": "markdown",
   "metadata": {},
   "source": [
    "11) En los puntos 9 y 10, se diseño un código que encuentra números primos y además se lo optimizó. ¿Es posible saber en qué medida se optimizó?"
   ]
  },
  {
   "cell_type": "code",
   "execution_count": 167,
   "metadata": {},
   "outputs": [
    {
     "name": "stdout",
     "output_type": "stream",
     "text": [
      "Cantidad de ciclos con break: 134\n",
      "Cantidad de ciclos sin break: 378\n"
     ]
    }
   ],
   "source": [
    "print('Cantidad de ciclos con break: ' + str(c2))   \n",
    "print('Cantidad de ciclos sin break: ' + str(c1))   "
   ]
  },
  {
   "attachments": {},
   "cell_type": "markdown",
   "metadata": {},
   "source": [
    "12) Aplicando continue, armar un ciclo while que solo imprima los valores divisibles por 12, dentro del rango de números de 100 a 300"
   ]
  },
  {
   "cell_type": "code",
   "execution_count": 169,
   "metadata": {},
   "outputs": [
    {
     "name": "stdout",
     "output_type": "stream",
     "text": [
      "108 es divisible por 12\n",
      "120 es divisible por 12\n",
      "132 es divisible por 12\n",
      "144 es divisible por 12\n",
      "156 es divisible por 12\n",
      "168 es divisible por 12\n",
      "180 es divisible por 12\n",
      "192 es divisible por 12\n",
      "204 es divisible por 12\n",
      "216 es divisible por 12\n",
      "228 es divisible por 12\n",
      "240 es divisible por 12\n",
      "252 es divisible por 12\n",
      "264 es divisible por 12\n",
      "276 es divisible por 12\n",
      "288 es divisible por 12\n",
      "300 es divisible por 12\n"
     ]
    }
   ],
   "source": [
    "a = 100\n",
    "while a<=300:\n",
    "    if a % 12 == 0:\n",
    "        print (a, \"es divisible por 12\")\n",
    "    a+=1"
   ]
  },
  {
   "attachments": {},
   "cell_type": "markdown",
   "metadata": {},
   "source": [
    "13) Utilizar la función **input()** que permite hacer ingresos por teclado, para encontrar números primos y dar la opción al usario de buscar el siguiente"
   ]
  },
  {
   "cell_type": "code",
   "execution_count": 181,
   "metadata": {},
   "outputs": [
    {
     "name": "stdout",
     "output_type": "stream",
     "text": [
      "Ingrese un numero\n",
      "numero ingresado:  5 es primo\n",
      "Buscar siguiente? 1 = SI, 0 = NO\n",
      "<class 'str'>\n"
     ]
    }
   ],
   "source": [
    "print('Ingrese un numero')\n",
    "y=1\n",
    "while int(y) != 0 :\n",
    "    x = input()\n",
    "    a = int(x)\n",
    "    for b in range(2,a):\n",
    "        c2+=1 \n",
    "        if a % b == 0:\n",
    "            d = 0\n",
    "            break\n",
    "    if d == 1:\n",
    "        print ('numero ingresado: ', a, \"es primo\")\n",
    "    else:\n",
    "        d=1\n",
    "        print ('numero ingresado: ', a, \"no es un numero primo\")\n",
    "    print('Buscar siguiente? 1 = SI, 0 = NO')\n",
    "    y = input()\n",
    "    print(type(y))"
   ]
  },
  {
   "attachments": {},
   "cell_type": "markdown",
   "metadata": {},
   "source": [
    "14) Crear un ciclo while que encuentre dentro del rango de 100 a 300 el primer número divisible por 3 y además múltiplo de 6"
   ]
  },
  {
   "cell_type": "code",
   "execution_count": 170,
   "metadata": {},
   "outputs": [
    {
     "name": "stdout",
     "output_type": "stream",
     "text": [
      "102 es divisible por 3 y multiplo de 6\n",
      "108 es divisible por 3 y multiplo de 6\n",
      "114 es divisible por 3 y multiplo de 6\n",
      "120 es divisible por 3 y multiplo de 6\n",
      "126 es divisible por 3 y multiplo de 6\n",
      "132 es divisible por 3 y multiplo de 6\n",
      "138 es divisible por 3 y multiplo de 6\n",
      "144 es divisible por 3 y multiplo de 6\n",
      "150 es divisible por 3 y multiplo de 6\n",
      "156 es divisible por 3 y multiplo de 6\n",
      "162 es divisible por 3 y multiplo de 6\n",
      "168 es divisible por 3 y multiplo de 6\n",
      "174 es divisible por 3 y multiplo de 6\n",
      "180 es divisible por 3 y multiplo de 6\n",
      "186 es divisible por 3 y multiplo de 6\n",
      "192 es divisible por 3 y multiplo de 6\n",
      "198 es divisible por 3 y multiplo de 6\n",
      "204 es divisible por 3 y multiplo de 6\n",
      "210 es divisible por 3 y multiplo de 6\n",
      "216 es divisible por 3 y multiplo de 6\n",
      "222 es divisible por 3 y multiplo de 6\n",
      "228 es divisible por 3 y multiplo de 6\n",
      "234 es divisible por 3 y multiplo de 6\n",
      "240 es divisible por 3 y multiplo de 6\n",
      "246 es divisible por 3 y multiplo de 6\n",
      "252 es divisible por 3 y multiplo de 6\n",
      "258 es divisible por 3 y multiplo de 6\n",
      "264 es divisible por 3 y multiplo de 6\n",
      "270 es divisible por 3 y multiplo de 6\n",
      "276 es divisible por 3 y multiplo de 6\n",
      "282 es divisible por 3 y multiplo de 6\n",
      "288 es divisible por 3 y multiplo de 6\n",
      "294 es divisible por 3 y multiplo de 6\n",
      "300 es divisible por 3 y multiplo de 6\n"
     ]
    }
   ],
   "source": [
    "a = 100\n",
    "while a<=300:\n",
    "    if a % 3 == 0:\n",
    "        if a % 6 == 0:\n",
    "            print (a, \"es divisible por 3 y multiplo de 6\")\n",
    "    a+=1"
   ]
  }
 ],
 "metadata": {
  "interpreter": {
   "hash": "c85384e4cb51c8b72350f3a8712cc8351fdc3955e32a27f9b60c6242ab125f01"
  },
  "kernelspec": {
   "display_name": "Python 3 (ipykernel)",
   "language": "python",
   "name": "python3"
  },
  "language_info": {
   "codemirror_mode": {
    "name": "ipython",
    "version": 3
   },
   "file_extension": ".py",
   "mimetype": "text/x-python",
   "name": "python",
   "nbconvert_exporter": "python",
   "pygments_lexer": "ipython3",
   "version": "3.10.6"
  }
 },
 "nbformat": 4,
 "nbformat_minor": 4
}
